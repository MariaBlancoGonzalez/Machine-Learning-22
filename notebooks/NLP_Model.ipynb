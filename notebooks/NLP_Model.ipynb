{
  "nbformat": 4,
  "nbformat_minor": 0,
  "metadata": {
    "colab": {
      "name": "NLP_Model.ipynb",
      "provenance": [],
      "collapsed_sections": []
    },
    "kernelspec": {
      "name": "python3",
      "display_name": "Python 3"
    },
    "language_info": {
      "name": "python"
    }
  },
  "cells": [
    {
      "cell_type": "markdown",
      "source": [
        "# NLP COMMENTS ASSIGNMENT\n",
        "\n",
        "This work has been carried out by:\n",
        "\n",
        "\n",
        "*   María Blanco González-Mohíno\n",
        "*   Pablo Velasco Crespo\n",
        "*   José Alberto Seco Sánchez-Camacho\n",
        "*   Adrián Ruíz Esteban"
      ],
      "metadata": {
        "id": "myicROksKWIl"
      }
    },
    {
      "cell_type": "markdown",
      "source": [
        "# Data Load\n"
      ],
      "metadata": {
        "id": "MNFmR_4ZKQJl"
      }
    },
    {
      "cell_type": "code",
      "source": [
        "import pandas as pd\n",
        "import numpy as np\n",
        "import io\n",
        "from math import ceil\n",
        "import seaborn as sns\n",
        "from nltk.sentiment.vader import SentimentIntensityAnalyzer\n",
        "from sklearn.feature_selection import SelectKBest, chi2, f_regression"
      ],
      "metadata": {
        "id": "NETXZcOULCqN"
      },
      "execution_count": 4,
      "outputs": []
    },
    {
      "cell_type": "code",
      "execution_count": 3,
      "metadata": {
        "id": "l4QA3q34mEd2",
        "colab": {
          "base_uri": "https://localhost:8080/",
          "height": 403
        },
        "outputId": "40322c52-917c-4641-d597-c0e5a07978b4"
      },
      "outputs": [
        {
          "output_type": "execute_result",
          "data": {
            "text/html": [
              "\n",
              "  <div id=\"df-394f1342-3774-4499-b935-a23d1a782bbe\">\n",
              "    <div class=\"colab-df-container\">\n",
              "      <div>\n",
              "<style scoped>\n",
              "    .dataframe tbody tr th:only-of-type {\n",
              "        vertical-align: middle;\n",
              "    }\n",
              "\n",
              "    .dataframe tbody tr th {\n",
              "        vertical-align: top;\n",
              "    }\n",
              "\n",
              "    .dataframe thead th {\n",
              "        text-align: right;\n",
              "    }\n",
              "</style>\n",
              "<table border=\"1\" class=\"dataframe\">\n",
              "  <thead>\n",
              "    <tr style=\"text-align: right;\">\n",
              "      <th></th>\n",
              "      <th>Unnamed: 0</th>\n",
              "      <th>class</th>\n",
              "      <th>text</th>\n",
              "      <th>text_clean</th>\n",
              "      <th>text_no_contractions</th>\n",
              "      <th>text_lemmatized</th>\n",
              "      <th>text_without_repeated_words</th>\n",
              "    </tr>\n",
              "  </thead>\n",
              "  <tbody>\n",
              "    <tr>\n",
              "      <th>0</th>\n",
              "      <td>0</td>\n",
              "      <td>Auto</td>\n",
              "      <td>I have recently purchased a J30T with moderat...</td>\n",
              "      <td>i have recently purchased a j30t with moderat...</td>\n",
              "      <td>i have recently purchased a j30t with moderat...</td>\n",
              "      <td>i have recently purchased a j30t with moderate...</td>\n",
              "      <td>self great well complaint quality after of rea...</td>\n",
              "    </tr>\n",
              "    <tr>\n",
              "      <th>1</th>\n",
              "      <td>1</td>\n",
              "      <td>Camera</td>\n",
              "      <td>I bought this product because I need instant ...</td>\n",
              "      <td>i bought this product because i need instant ...</td>\n",
              "      <td>i bought this product because i need instant ...</td>\n",
              "      <td>i bought this product because i need instant g...</td>\n",
              "      <td>density use computer want great cross contrast...</td>\n",
              "    </tr>\n",
              "    <tr>\n",
              "      <th>2</th>\n",
              "      <td>2</td>\n",
              "      <td>Auto</td>\n",
              "      <td>I have owned my Buick since 53000 km and I am...</td>\n",
              "      <td>i have owned my buick since 53000 km and i am...</td>\n",
              "      <td>i have owned my buick since 53000 km and i am...</td>\n",
              "      <td>i have owned my buick since 53000 km and i am ...</td>\n",
              "      <td>owned 2287 well great must but me driven of bu...</td>\n",
              "    </tr>\n",
              "    <tr>\n",
              "      <th>3</th>\n",
              "      <td>3</td>\n",
              "      <td>Camera</td>\n",
              "      <td>This was my first Digital camera so I did qui...</td>\n",
              "      <td>this was my first digital camera so i did qui...</td>\n",
              "      <td>this was my first digital camera so i did qui...</td>\n",
              "      <td>this wa my first digital camera so i did quite...</td>\n",
              "      <td>bummer great invest found quality but hope of ...</td>\n",
              "    </tr>\n",
              "    <tr>\n",
              "      <th>4</th>\n",
              "      <td>4</td>\n",
              "      <td>Camera</td>\n",
              "      <td>Minolta DiMAGE 7Hi is in a digital SLR with 5...</td>\n",
              "      <td>minolta dimage 7hi is in a digital slr with 5...</td>\n",
              "      <td>minolta dimage 7hi is in a digital slr with 5...</td>\n",
              "      <td>minolta dimage 7hi is in a digital slr with 5 ...</td>\n",
              "      <td>frame contrast useful area 7i me these after t...</td>\n",
              "    </tr>\n",
              "    <tr>\n",
              "      <th>5</th>\n",
              "      <td>5</td>\n",
              "      <td>Auto</td>\n",
              "      <td>I had a 1984 Saab  a 1996 Saab and now a 1999...</td>\n",
              "      <td>i had a 1984 saab  a 1996 saab and now a 1999...</td>\n",
              "      <td>i had a 1984 saab  a 1996 saab and now a 1999...</td>\n",
              "      <td>i had a 1984 saab a 1996 saab and now a 1999 s...</td>\n",
              "      <td>saab ride beating me but school of tighter dur...</td>\n",
              "    </tr>\n",
              "  </tbody>\n",
              "</table>\n",
              "</div>\n",
              "      <button class=\"colab-df-convert\" onclick=\"convertToInteractive('df-394f1342-3774-4499-b935-a23d1a782bbe')\"\n",
              "              title=\"Convert this dataframe to an interactive table.\"\n",
              "              style=\"display:none;\">\n",
              "        \n",
              "  <svg xmlns=\"http://www.w3.org/2000/svg\" height=\"24px\"viewBox=\"0 0 24 24\"\n",
              "       width=\"24px\">\n",
              "    <path d=\"M0 0h24v24H0V0z\" fill=\"none\"/>\n",
              "    <path d=\"M18.56 5.44l.94 2.06.94-2.06 2.06-.94-2.06-.94-.94-2.06-.94 2.06-2.06.94zm-11 1L8.5 8.5l.94-2.06 2.06-.94-2.06-.94L8.5 2.5l-.94 2.06-2.06.94zm10 10l.94 2.06.94-2.06 2.06-.94-2.06-.94-.94-2.06-.94 2.06-2.06.94z\"/><path d=\"M17.41 7.96l-1.37-1.37c-.4-.4-.92-.59-1.43-.59-.52 0-1.04.2-1.43.59L10.3 9.45l-7.72 7.72c-.78.78-.78 2.05 0 2.83L4 21.41c.39.39.9.59 1.41.59.51 0 1.02-.2 1.41-.59l7.78-7.78 2.81-2.81c.8-.78.8-2.07 0-2.86zM5.41 20L4 18.59l7.72-7.72 1.47 1.35L5.41 20z\"/>\n",
              "  </svg>\n",
              "      </button>\n",
              "      \n",
              "  <style>\n",
              "    .colab-df-container {\n",
              "      display:flex;\n",
              "      flex-wrap:wrap;\n",
              "      gap: 12px;\n",
              "    }\n",
              "\n",
              "    .colab-df-convert {\n",
              "      background-color: #E8F0FE;\n",
              "      border: none;\n",
              "      border-radius: 50%;\n",
              "      cursor: pointer;\n",
              "      display: none;\n",
              "      fill: #1967D2;\n",
              "      height: 32px;\n",
              "      padding: 0 0 0 0;\n",
              "      width: 32px;\n",
              "    }\n",
              "\n",
              "    .colab-df-convert:hover {\n",
              "      background-color: #E2EBFA;\n",
              "      box-shadow: 0px 1px 2px rgba(60, 64, 67, 0.3), 0px 1px 3px 1px rgba(60, 64, 67, 0.15);\n",
              "      fill: #174EA6;\n",
              "    }\n",
              "\n",
              "    [theme=dark] .colab-df-convert {\n",
              "      background-color: #3B4455;\n",
              "      fill: #D2E3FC;\n",
              "    }\n",
              "\n",
              "    [theme=dark] .colab-df-convert:hover {\n",
              "      background-color: #434B5C;\n",
              "      box-shadow: 0px 1px 3px 1px rgba(0, 0, 0, 0.15);\n",
              "      filter: drop-shadow(0px 1px 2px rgba(0, 0, 0, 0.3));\n",
              "      fill: #FFFFFF;\n",
              "    }\n",
              "  </style>\n",
              "\n",
              "      <script>\n",
              "        const buttonEl =\n",
              "          document.querySelector('#df-394f1342-3774-4499-b935-a23d1a782bbe button.colab-df-convert');\n",
              "        buttonEl.style.display =\n",
              "          google.colab.kernel.accessAllowed ? 'block' : 'none';\n",
              "\n",
              "        async function convertToInteractive(key) {\n",
              "          const element = document.querySelector('#df-394f1342-3774-4499-b935-a23d1a782bbe');\n",
              "          const dataTable =\n",
              "            await google.colab.kernel.invokeFunction('convertToInteractive',\n",
              "                                                     [key], {});\n",
              "          if (!dataTable) return;\n",
              "\n",
              "          const docLinkHtml = 'Like what you see? Visit the ' +\n",
              "            '<a target=\"_blank\" href=https://colab.research.google.com/notebooks/data_table.ipynb>data table notebook</a>'\n",
              "            + ' to learn more about interactive tables.';\n",
              "          element.innerHTML = '';\n",
              "          dataTable['output_type'] = 'display_data';\n",
              "          await google.colab.output.renderOutput(dataTable, element);\n",
              "          const docLink = document.createElement('div');\n",
              "          docLink.innerHTML = docLinkHtml;\n",
              "          element.appendChild(docLink);\n",
              "        }\n",
              "      </script>\n",
              "    </div>\n",
              "  </div>\n",
              "  "
            ],
            "text/plain": [
              "   Unnamed: 0  ...                        text_without_repeated_words\n",
              "0           0  ...  self great well complaint quality after of rea...\n",
              "1           1  ...  density use computer want great cross contrast...\n",
              "2           2  ...  owned 2287 well great must but me driven of bu...\n",
              "3           3  ...  bummer great invest found quality but hope of ...\n",
              "4           4  ...  frame contrast useful area 7i me these after t...\n",
              "5           5  ...  saab ride beating me but school of tighter dur...\n",
              "\n",
              "[6 rows x 7 columns]"
            ]
          },
          "metadata": {},
          "execution_count": 3
        }
      ],
      "source": [
        "comments = pd.read_csv('comments_preprocessed.csv')\n",
        "comments.head(6)"
      ]
    },
    {
      "cell_type": "markdown",
      "source": [
        "# Sentiment Analysis"
      ],
      "metadata": {
        "id": "FdNM1xRgKJkV"
      }
    },
    {
      "cell_type": "code",
      "source": [
        "import nltk\n",
        "nltk.download('vader_lexicon')"
      ],
      "metadata": {
        "colab": {
          "base_uri": "https://localhost:8080/"
        },
        "id": "ZD43aRPVLZ2t",
        "outputId": "b2a2a4a8-7713-42a1-ad2c-2672078fbcf2"
      },
      "execution_count": 7,
      "outputs": [
        {
          "output_type": "stream",
          "name": "stdout",
          "text": [
            "[nltk_data] Downloading package vader_lexicon to /root/nltk_data...\n"
          ]
        },
        {
          "output_type": "execute_result",
          "data": {
            "text/plain": [
              "True"
            ]
          },
          "metadata": {},
          "execution_count": 7
        }
      ]
    },
    {
      "cell_type": "code",
      "source": [
        ""
      ],
      "metadata": {
        "id": "iOc2ON95ObxG"
      },
      "execution_count": 24,
      "outputs": []
    },
    {
      "cell_type": "code",
      "source": [
        "def sent_analyzer(sent):\n",
        "  sentiment = sentiment_analyzer.polarity_scores(sent) \n",
        "  return sentiment['neg'], sentiment['pos'], sentiment['neu'], sentiment['compound']"
      ],
      "metadata": {
        "id": "gcQqFE7sLdFF"
      },
      "execution_count": 29,
      "outputs": []
    },
    {
      "cell_type": "code",
      "source": [
        "sentiment_analyzer  = SentimentIntensityAnalyzer() \n",
        "sentences = comments['text_without_repeated_words'].tolist()\n",
        "sent = []\n",
        "\n",
        "for i in sentences:\n",
        "  neg, pos, neu, compound = sent_analyzer(i)\n",
        "  sent.append([neg, pos, neu, compound])\n",
        "\n",
        "df = pd.DataFrame(sent, columns=['neg', 'pos', 'neu', 'compound'])"
      ],
      "metadata": {
        "id": "8VG_W4YlLNwc"
      },
      "execution_count": 31,
      "outputs": []
    },
    {
      "cell_type": "code",
      "source": [
        "df"
      ],
      "metadata": {
        "colab": {
          "base_uri": "https://localhost:8080/",
          "height": 423
        },
        "id": "mZe0xU1hNXyl",
        "outputId": "aabd9a06-f354-4f3a-a59b-99b548401c4a"
      },
      "execution_count": 32,
      "outputs": [
        {
          "output_type": "execute_result",
          "data": {
            "text/html": [
              "\n",
              "  <div id=\"df-524b4437-cc09-458f-8e95-1782cc021d06\">\n",
              "    <div class=\"colab-df-container\">\n",
              "      <div>\n",
              "<style scoped>\n",
              "    .dataframe tbody tr th:only-of-type {\n",
              "        vertical-align: middle;\n",
              "    }\n",
              "\n",
              "    .dataframe tbody tr th {\n",
              "        vertical-align: top;\n",
              "    }\n",
              "\n",
              "    .dataframe thead th {\n",
              "        text-align: right;\n",
              "    }\n",
              "</style>\n",
              "<table border=\"1\" class=\"dataframe\">\n",
              "  <thead>\n",
              "    <tr style=\"text-align: right;\">\n",
              "      <th></th>\n",
              "      <th>neg</th>\n",
              "      <th>pos</th>\n",
              "      <th>neu</th>\n",
              "      <th>compound</th>\n",
              "    </tr>\n",
              "  </thead>\n",
              "  <tbody>\n",
              "    <tr>\n",
              "      <th>0</th>\n",
              "      <td>0.065</td>\n",
              "      <td>0.177</td>\n",
              "      <td>0.758</td>\n",
              "      <td>0.9490</td>\n",
              "    </tr>\n",
              "    <tr>\n",
              "      <th>1</th>\n",
              "      <td>0.064</td>\n",
              "      <td>0.186</td>\n",
              "      <td>0.751</td>\n",
              "      <td>0.9859</td>\n",
              "    </tr>\n",
              "    <tr>\n",
              "      <th>2</th>\n",
              "      <td>0.031</td>\n",
              "      <td>0.192</td>\n",
              "      <td>0.777</td>\n",
              "      <td>0.9817</td>\n",
              "    </tr>\n",
              "    <tr>\n",
              "      <th>3</th>\n",
              "      <td>0.152</td>\n",
              "      <td>0.207</td>\n",
              "      <td>0.640</td>\n",
              "      <td>0.8456</td>\n",
              "    </tr>\n",
              "    <tr>\n",
              "      <th>4</th>\n",
              "      <td>0.055</td>\n",
              "      <td>0.174</td>\n",
              "      <td>0.771</td>\n",
              "      <td>0.9960</td>\n",
              "    </tr>\n",
              "    <tr>\n",
              "      <th>...</th>\n",
              "      <td>...</td>\n",
              "      <td>...</td>\n",
              "      <td>...</td>\n",
              "      <td>...</td>\n",
              "    </tr>\n",
              "    <tr>\n",
              "      <th>595</th>\n",
              "      <td>0.064</td>\n",
              "      <td>0.176</td>\n",
              "      <td>0.761</td>\n",
              "      <td>0.9798</td>\n",
              "    </tr>\n",
              "    <tr>\n",
              "      <th>596</th>\n",
              "      <td>0.100</td>\n",
              "      <td>0.250</td>\n",
              "      <td>0.650</td>\n",
              "      <td>0.9853</td>\n",
              "    </tr>\n",
              "    <tr>\n",
              "      <th>597</th>\n",
              "      <td>0.072</td>\n",
              "      <td>0.340</td>\n",
              "      <td>0.589</td>\n",
              "      <td>0.9892</td>\n",
              "    </tr>\n",
              "    <tr>\n",
              "      <th>598</th>\n",
              "      <td>0.056</td>\n",
              "      <td>0.202</td>\n",
              "      <td>0.742</td>\n",
              "      <td>0.9902</td>\n",
              "    </tr>\n",
              "    <tr>\n",
              "      <th>599</th>\n",
              "      <td>0.051</td>\n",
              "      <td>0.185</td>\n",
              "      <td>0.764</td>\n",
              "      <td>0.9673</td>\n",
              "    </tr>\n",
              "  </tbody>\n",
              "</table>\n",
              "<p>600 rows × 4 columns</p>\n",
              "</div>\n",
              "      <button class=\"colab-df-convert\" onclick=\"convertToInteractive('df-524b4437-cc09-458f-8e95-1782cc021d06')\"\n",
              "              title=\"Convert this dataframe to an interactive table.\"\n",
              "              style=\"display:none;\">\n",
              "        \n",
              "  <svg xmlns=\"http://www.w3.org/2000/svg\" height=\"24px\"viewBox=\"0 0 24 24\"\n",
              "       width=\"24px\">\n",
              "    <path d=\"M0 0h24v24H0V0z\" fill=\"none\"/>\n",
              "    <path d=\"M18.56 5.44l.94 2.06.94-2.06 2.06-.94-2.06-.94-.94-2.06-.94 2.06-2.06.94zm-11 1L8.5 8.5l.94-2.06 2.06-.94-2.06-.94L8.5 2.5l-.94 2.06-2.06.94zm10 10l.94 2.06.94-2.06 2.06-.94-2.06-.94-.94-2.06-.94 2.06-2.06.94z\"/><path d=\"M17.41 7.96l-1.37-1.37c-.4-.4-.92-.59-1.43-.59-.52 0-1.04.2-1.43.59L10.3 9.45l-7.72 7.72c-.78.78-.78 2.05 0 2.83L4 21.41c.39.39.9.59 1.41.59.51 0 1.02-.2 1.41-.59l7.78-7.78 2.81-2.81c.8-.78.8-2.07 0-2.86zM5.41 20L4 18.59l7.72-7.72 1.47 1.35L5.41 20z\"/>\n",
              "  </svg>\n",
              "      </button>\n",
              "      \n",
              "  <style>\n",
              "    .colab-df-container {\n",
              "      display:flex;\n",
              "      flex-wrap:wrap;\n",
              "      gap: 12px;\n",
              "    }\n",
              "\n",
              "    .colab-df-convert {\n",
              "      background-color: #E8F0FE;\n",
              "      border: none;\n",
              "      border-radius: 50%;\n",
              "      cursor: pointer;\n",
              "      display: none;\n",
              "      fill: #1967D2;\n",
              "      height: 32px;\n",
              "      padding: 0 0 0 0;\n",
              "      width: 32px;\n",
              "    }\n",
              "\n",
              "    .colab-df-convert:hover {\n",
              "      background-color: #E2EBFA;\n",
              "      box-shadow: 0px 1px 2px rgba(60, 64, 67, 0.3), 0px 1px 3px 1px rgba(60, 64, 67, 0.15);\n",
              "      fill: #174EA6;\n",
              "    }\n",
              "\n",
              "    [theme=dark] .colab-df-convert {\n",
              "      background-color: #3B4455;\n",
              "      fill: #D2E3FC;\n",
              "    }\n",
              "\n",
              "    [theme=dark] .colab-df-convert:hover {\n",
              "      background-color: #434B5C;\n",
              "      box-shadow: 0px 1px 3px 1px rgba(0, 0, 0, 0.15);\n",
              "      filter: drop-shadow(0px 1px 2px rgba(0, 0, 0, 0.3));\n",
              "      fill: #FFFFFF;\n",
              "    }\n",
              "  </style>\n",
              "\n",
              "      <script>\n",
              "        const buttonEl =\n",
              "          document.querySelector('#df-524b4437-cc09-458f-8e95-1782cc021d06 button.colab-df-convert');\n",
              "        buttonEl.style.display =\n",
              "          google.colab.kernel.accessAllowed ? 'block' : 'none';\n",
              "\n",
              "        async function convertToInteractive(key) {\n",
              "          const element = document.querySelector('#df-524b4437-cc09-458f-8e95-1782cc021d06');\n",
              "          const dataTable =\n",
              "            await google.colab.kernel.invokeFunction('convertToInteractive',\n",
              "                                                     [key], {});\n",
              "          if (!dataTable) return;\n",
              "\n",
              "          const docLinkHtml = 'Like what you see? Visit the ' +\n",
              "            '<a target=\"_blank\" href=https://colab.research.google.com/notebooks/data_table.ipynb>data table notebook</a>'\n",
              "            + ' to learn more about interactive tables.';\n",
              "          element.innerHTML = '';\n",
              "          dataTable['output_type'] = 'display_data';\n",
              "          await google.colab.output.renderOutput(dataTable, element);\n",
              "          const docLink = document.createElement('div');\n",
              "          docLink.innerHTML = docLinkHtml;\n",
              "          element.appendChild(docLink);\n",
              "        }\n",
              "      </script>\n",
              "    </div>\n",
              "  </div>\n",
              "  "
            ],
            "text/plain": [
              "       neg    pos    neu  compound\n",
              "0    0.065  0.177  0.758    0.9490\n",
              "1    0.064  0.186  0.751    0.9859\n",
              "2    0.031  0.192  0.777    0.9817\n",
              "3    0.152  0.207  0.640    0.8456\n",
              "4    0.055  0.174  0.771    0.9960\n",
              "..     ...    ...    ...       ...\n",
              "595  0.064  0.176  0.761    0.9798\n",
              "596  0.100  0.250  0.650    0.9853\n",
              "597  0.072  0.340  0.589    0.9892\n",
              "598  0.056  0.202  0.742    0.9902\n",
              "599  0.051  0.185  0.764    0.9673\n",
              "\n",
              "[600 rows x 4 columns]"
            ]
          },
          "metadata": {},
          "execution_count": 32
        }
      ]
    },
    {
      "cell_type": "markdown",
      "source": [
        "The Compound score is a metric that calculates the sum of all the lexicon ratings which have been normalized between -1(most extreme negative) and +1 (most extreme positive).\n",
        "positive sentiment : (compound score >= 0.05) \n",
        "neutral sentiment : (compound score > -0.05) and (compound score < 0.05) \n",
        "negative sentiment : (compound score <= -0.05) (Esto esta sacado de internet)\n",
        "\n",
        "Una cosa para hacer cuando este trabajo acabe es ver la media de todos los comentarios, es decir, ver si son mas negativos que positivos etc. # TODO"
      ],
      "metadata": {
        "id": "EqOcBd4wQ_UQ"
      }
    },
    {
      "cell_type": "markdown",
      "source": [
        "Overviewing one of the sentences that we analyzed"
      ],
      "metadata": {
        "id": "Decx2PSjP1j-"
      }
    },
    {
      "cell_type": "code",
      "source": [
        "sns.set(rc={'figure.figsize':(30,1)})\n",
        "def visualise_sentiments(data):\n",
        "  sns.heatmap(pd.DataFrame(data).set_index(\"Sentence\").T,center=0, annot=True, cmap = \"PiYG\")\n",
        "\n",
        "print(sentences[20])\n",
        "visualise_sentiments({\n",
        "    \"Sentence\":[\"SENTENCE\"] + sentences[20].split(),\n",
        "    \"Sentiment\":[sentiment_analyzer.polarity_scores(sentences[20])[\"compound\"]] + [sentiment_analyzer.polarity_scores(word)[\"compound\"] for word in sentences[20].split()]\n",
        "})"
      ],
      "metadata": {
        "colab": {
          "base_uri": "https://localhost:8080/",
          "height": 217
        },
        "id": "0rX9gJUEKEB-",
        "outputId": "2209449c-2400-42c1-b0c6-32b1b611f67b"
      },
      "execution_count": 35,
      "outputs": [
        {
          "output_type": "stream",
          "name": "stdout",
          "text": [
            "area ski after if i now 3 myself nail line mileage try by bookcase took dash same over dual ve 000 slipping in there aggressive this haul coming degree are seat suv like you heat gone to so window book with motor call them virgin awd ac middle completely feb design add chart 2 they m fly general where suggest time love 4x2 did rainer influence really hidden ha charging covering no a later haven full soon port 80 buick down thanks tiny trailblazer own white pick horsepower tim compartment do containing corner running family wet 4x4 hump monitarily t drive wiper sitting above felt handy 90 pontiac issue sweat possible entry pretty plenty must box but outside of buying being thanksgiving bump 70 rebate huge holding sliding blazer definetly 99 it splurged escape flip driver getting can roomie offer up unlock expect control we price every were amount strap told door deep any bumpin saw gm luckily decent speaker only an come radio version thing limited for large liberty having lack somehow sure and remote grand all making row wanted will winter feature feeling have before good said new difference 60 make drove style mustang seen everyone 6 10 fe detector what utilize our d 2002 found annoying school flipped 8 when rear race key cd still looking radar also get ability stats bit holder available engine bust split off just increase main another uncle tb mom cigarette be big jeep am onto envoy crowd l discount used size traveling storing else here ford additional test keyless year next husband mile hyndai into explorer turning option map wa gmc comfortable bravada didn sit hoofer lying very console strongly done panel at 30 climate phone first nice mini prefer something driving van storage too not surprise tipped knew inside last tree lock been apperciate use well great under paper opening her atleast never review overall front idea need hatch fit compete my friend or groove near small job beefy goose the 40 had exposure tip most much etc true made lot convient cargo from back beast legroom s cup side one fast lovley don snowless trailblzer isn 0 going female cell feel always car v their old out powering lighter some michigan 4th that pulling on high santa he chevy market gas added is pricing 2500 pocket information body similar\n"
          ]
        },
        {
          "output_type": "display_data",
          "data": {
            "image/png": "[encoded data removed]",
            "text/plain": [
              "<Figure size 2160x72 with 2 Axes>"
            ]
          },
          "metadata": {}
        }
      ]
    },
    {
      "cell_type": "markdown",
      "source": [
        "# Feature Selection"
      ],
      "metadata": {
        "id": "_PLdBLV6KHrN"
      }
    },
    {
      "cell_type": "markdown",
      "source": [
        " # TODO"
      ],
      "metadata": {
        "id": "TeQNbMJBVZDo"
      }
    },
    {
      "cell_type": "code",
      "source": [
        "\n",
        "# Create feature and target variable for Classification problem\n",
        "X_clf=comments.iloc[:,1:] # features: from 1 to last\n",
        "\n",
        "y_clf=comments.iloc[:,1] # Target variable: last one\n",
        "\n",
        "print(X_clf.columns)\n",
        "print(y_clf)\n",
        "\n",
        "y_clf = np.where(y_clf == 'Auto', 0, y_clf)\n",
        "y_clf = np.where(y_clf == 'Camara', 1, y_clf)\n",
        "\n",
        "\n",
        "print(y_clf)\n",
        "\n",
        "size = len(X_clf.columns)\n",
        "# Devuelve: El menor número entero no menor que x\n",
        "to_cut = ceil(0.7*len(X_clf.columns))\n",
        "to_save = size - to_cut\n",
        "\n",
        "# k is the number of features you want to select [here it's 2]\n",
        "X_clf_new=SelectKBest(score_func=chi2,k=to_save).fit_transform(X_clf,y_clf)\n",
        "\n",
        "# Check the newly created variable for top two best features\n",
        "#print(X_clf_new[:7])"
      ],
      "metadata": {
        "id": "qpD-v9fIKjBN"
      },
      "execution_count": null,
      "outputs": []
    },
    {
      "cell_type": "markdown",
      "source": [
        "# Classification "
      ],
      "metadata": {
        "id": "z_T6_vqJKMM0"
      }
    }
  ]
}